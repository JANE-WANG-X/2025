{
 "cells": [
  {
   "cell_type": "code",
   "execution_count": 2,
   "id": "5f4c20b3",
   "metadata": {},
   "outputs": [
    {
     "name": "stdout",
     "output_type": "stream",
     "text": [
      "\n",
      "🚀 Translating batch 1/10 (0 to 400)\n"
     ]
    },
    {
     "name": "stderr",
     "output_type": "stream",
     "text": [
      "100%|██████████| 400/400 [04:44<00:00,  1.41it/s]\n"
     ]
    },
    {
     "name": "stdout",
     "output_type": "stream",
     "text": [
      "✅ Saved batch 1\n",
      "\n",
      "🚀 Translating batch 2/10 (400 to 800)\n"
     ]
    },
    {
     "name": "stderr",
     "output_type": "stream",
     "text": [
      "100%|██████████| 400/400 [05:16<00:00,  1.26it/s]\n"
     ]
    },
    {
     "name": "stdout",
     "output_type": "stream",
     "text": [
      "✅ Saved batch 2\n",
      "\n",
      "🚀 Translating batch 3/10 (800 to 1200)\n"
     ]
    },
    {
     "name": "stderr",
     "output_type": "stream",
     "text": [
      "100%|██████████| 400/400 [05:27<00:00,  1.22it/s]\n"
     ]
    },
    {
     "name": "stdout",
     "output_type": "stream",
     "text": [
      "✅ Saved batch 3\n",
      "\n",
      "🚀 Translating batch 4/10 (1200 to 1600)\n"
     ]
    },
    {
     "name": "stderr",
     "output_type": "stream",
     "text": [
      " 80%|███████▉  | 319/400 [04:15<03:00,  2.22s/it]"
     ]
    },
    {
     "name": "stdout",
     "output_type": "stream",
     "text": [
      "⚠️ Translation error: The read operation timed out\n"
     ]
    },
    {
     "name": "stderr",
     "output_type": "stream",
     "text": [
      "100%|██████████| 400/400 [05:22<00:00,  1.24it/s]\n"
     ]
    },
    {
     "name": "stdout",
     "output_type": "stream",
     "text": [
      "✅ Saved batch 4\n",
      "\n",
      "🚀 Translating batch 5/10 (1600 to 2000)\n"
     ]
    },
    {
     "name": "stderr",
     "output_type": "stream",
     "text": [
      "100%|██████████| 400/400 [05:27<00:00,  1.22it/s]\n"
     ]
    },
    {
     "name": "stdout",
     "output_type": "stream",
     "text": [
      "✅ Saved batch 5\n",
      "\n",
      "🚀 Translating batch 6/10 (2000 to 2400)\n"
     ]
    },
    {
     "name": "stderr",
     "output_type": "stream",
     "text": [
      " 53%|█████▎    | 211/400 [02:53<06:15,  1.99s/it]"
     ]
    },
    {
     "name": "stdout",
     "output_type": "stream",
     "text": [
      "⚠️ Translation error: The read operation timed out\n"
     ]
    },
    {
     "name": "stderr",
     "output_type": "stream",
     "text": [
      "100%|██████████| 400/400 [05:24<00:00,  1.23it/s]\n"
     ]
    },
    {
     "name": "stdout",
     "output_type": "stream",
     "text": [
      "✅ Saved batch 6\n",
      "\n",
      "🚀 Translating batch 7/10 (2400 to 2800)\n"
     ]
    },
    {
     "name": "stderr",
     "output_type": "stream",
     "text": [
      "100%|██████████| 400/400 [05:14<00:00,  1.27it/s]\n"
     ]
    },
    {
     "name": "stdout",
     "output_type": "stream",
     "text": [
      "✅ Saved batch 7\n",
      "\n",
      "🚀 Translating batch 8/10 (2800 to 3200)\n"
     ]
    },
    {
     "name": "stderr",
     "output_type": "stream",
     "text": [
      "100%|██████████| 400/400 [05:02<00:00,  1.32it/s]\n"
     ]
    },
    {
     "name": "stdout",
     "output_type": "stream",
     "text": [
      "✅ Saved batch 8\n",
      "\n",
      "🚀 Translating batch 9/10 (3200 to 3600)\n"
     ]
    },
    {
     "name": "stderr",
     "output_type": "stream",
     "text": [
      "100%|██████████| 400/400 [05:15<00:00,  1.27it/s]\n"
     ]
    },
    {
     "name": "stdout",
     "output_type": "stream",
     "text": [
      "✅ Saved batch 9\n",
      "\n",
      "🚀 Translating batch 10/10 (3600 to 4000)\n"
     ]
    },
    {
     "name": "stderr",
     "output_type": "stream",
     "text": [
      " 52%|█████▏    | 208/400 [02:50<06:58,  2.18s/it]"
     ]
    },
    {
     "name": "stdout",
     "output_type": "stream",
     "text": [
      "⚠️ Translation error: The read operation timed out\n"
     ]
    },
    {
     "name": "stderr",
     "output_type": "stream",
     "text": [
      "100%|██████████| 400/400 [05:25<00:00,  1.23it/s]\n"
     ]
    },
    {
     "name": "stdout",
     "output_type": "stream",
     "text": [
      "✅ Saved batch 10\n"
     ]
    }
   ],
   "source": [
    "from googletrans import Translator\n",
    "import time\n",
    "import os\n",
    "import pandas as pd\n",
    "from tqdm import tqdm\n",
    "\n",
    "df = pd.read_csv(\"data_final/us_news.csv\")\n",
    "\n",
    "n_batches = 10\n",
    "batch_size = len(df) // n_batches\n",
    "\n",
    "translator = Translator()\n",
    "tqdm.pandas()\n",
    "\n",
    "def safe_translate_to_zh(text):\n",
    "    try:\n",
    "        return translator.translate(text, src='en', dest='zh-cn').text\n",
    "    except Exception as e:\n",
    "        print(f\"⚠️ Translation error: {e}\")\n",
    "        return \"Translation error\"\n",
    "\n",
    "output_dir = 'us_batches'\n",
    "os.makedirs(output_dir, exist_ok=True)\n",
    "\n",
    "for i in range(n_batches):\n",
    "    start = i * batch_size\n",
    "    end = (i + 1) * batch_size if i < n_batches - 1 else len(df)\n",
    "    batch = df.iloc[start:end]\n",
    "\n",
    "    print(f\"\\n🚀 Translating batch {i+1}/{n_batches} ({start} to {end})\")\n",
    "\n",
    "    translated = batch['Headlines'].progress_apply(safe_translate_to_zh)\n",
    "    translated_df = pd.DataFrame({'Headlines_Chinese': translated})\n",
    "\n",
    "    translated_df.to_csv(f'{output_dir}/us_news_translated_batch_{i+1}.csv', index=False, encoding='utf-8-sig')\n",
    "    print(f\"✅ Saved batch {i+1}\")\n",
    "    time.sleep(1)\n"
   ]
  },
  {
   "cell_type": "code",
   "execution_count": 5,
   "id": "1f5d9dc5",
   "metadata": {},
   "outputs": [
    {
     "name": "stdout",
     "output_type": "stream",
     "text": [
      "🎉 All done! Final file saved: us_news_to_cn.csv\n"
     ]
    }
   ],
   "source": [
    "import pandas as pd\n",
    "import glob\n",
    "import re\n",
    "\n",
    "def natural_sort_key(s):\n",
    "    return [int(text) if text.isdigit() else text.lower() for text in re.split('(\\d+)', s)]\n",
    "\n",
    "batch_files = sorted(glob.glob('us_batches/us_news_translated_batch_*.csv'), key=natural_sort_key)\n",
    "\n",
    "translated_batches = [pd.read_csv(f, encoding='utf-8-sig') for f in batch_files]\n",
    "df_translated = pd.concat(translated_batches, ignore_index=True)\n",
    "\n",
    "df_us = pd.read_csv(\"data_final/us_news.csv\")\n",
    "\n",
    "df_final = df_us[['Date']].copy()\n",
    "df_final['Headlines'] = df_translated['Headlines_Chinese']\n",
    "\n",
    "df_final.to_csv('data_final/us_news_to_cn.csv', index=False, encoding='utf-8-sig')\n",
    "print(\"🎉 All done! Final file saved: us_news_to_cn.csv\")\n"
   ]
  },
  {
   "cell_type": "code",
   "execution_count": null,
   "id": "73189adb",
   "metadata": {},
   "outputs": [],
   "source": []
  }
 ],
 "metadata": {
  "kernelspec": {
   "display_name": "Python (finance-nlp)",
   "language": "python",
   "name": "finance-nlp"
  },
  "language_info": {
   "codemirror_mode": {
    "name": "ipython",
    "version": 3
   },
   "file_extension": ".py",
   "mimetype": "text/x-python",
   "name": "python",
   "nbconvert_exporter": "python",
   "pygments_lexer": "ipython3",
   "version": "3.11.4"
  }
 },
 "nbformat": 4,
 "nbformat_minor": 5
}

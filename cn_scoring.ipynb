{
 "cells": [
  {
   "cell_type": "markdown",
   "id": "0b228366",
   "metadata": {},
   "source": [
    "# CN\n"
   ]
  },
  {
   "cell_type": "code",
   "execution_count": 1,
   "id": "883d2b5c",
   "metadata": {},
   "outputs": [],
   "source": [
    "import pandas as pd"
   ]
  },
  {
   "cell_type": "code",
   "execution_count": 3,
   "id": "3679df28",
   "metadata": {},
   "outputs": [
    {
     "name": "stdout",
     "output_type": "stream",
     "text": [
      "<class 'pandas.core.frame.DataFrame'>\n",
      "RangeIndex: 7337 entries, 0 to 7336\n",
      "Data columns (total 2 columns):\n",
      " #   Column  Non-Null Count  Dtype \n",
      "---  ------  --------------  ----- \n",
      " 0   text    7337 non-null   object\n",
      " 1   score   7337 non-null   int64 \n",
      "dtypes: int64(1), object(1)\n",
      "memory usage: 114.8+ KB\n"
     ]
    },
    {
     "data": {
      "text/plain": [
       "(None,\n",
       "                                                 text  score\n",
       " 0  苏州市物价局 您好您的来信收悉根据印发关于市区机动车停放服务收费改革意见的通知苏府号规定机动...      0\n",
       " 1  触目惊心东北名男子街头上演武林风倒地男子被车碾死 月日凌晨时分大连市的太原街和同泰街交会出一...     -1\n",
       " 2  以恋爱为名一女子诱骗网友到萍乡一传销窝点非法拘禁天 中国江西网讯徐政武见习记者薛柏武记者周再...     -1\n",
       " 3  杭州芊颜化妆品有限公司被爆涉传老板很嚣张-浦口人网 杭州芊颜化妆品有限公司被爆涉传老板很嚣张...     -1\n",
       " 4  蹊跷泰州一灵车停在屋里莫名起火把房子烧了麦泽利安的头颅-言 蹊跷泰州一灵车停在屋里莫名起火把...     -1)"
      ]
     },
     "execution_count": 3,
     "metadata": {},
     "output_type": "execute_result"
    }
   ],
   "source": [
    "cn_score_source = pd.read_excel('sentiment_source/cn_train_data.xlsx')\n",
    "cn_score_source.info(), cn_score_source.head()"
   ]
  },
  {
   "cell_type": "markdown",
   "id": "7839e066",
   "metadata": {},
   "source": [
    "### TF-IDF, Ridge/XGBoost"
   ]
  },
  {
   "cell_type": "code",
   "execution_count": 14,
   "id": "9c50fde9",
   "metadata": {},
   "outputs": [],
   "source": [
    "import jieba\n",
    "from sklearn.feature_extraction.text import TfidfVectorizer\n",
    "from sklearn.linear_model import Ridge\n",
    "from sklearn.model_selection import train_test_split\n",
    "from sklearn.metrics import mean_squared_error, mean_absolute_error, r2_score\n",
    "import xgboost as xgb\n",
    "import numpy as np"
   ]
  },
  {
   "cell_type": "code",
   "execution_count": 15,
   "id": "183c6f4f",
   "metadata": {},
   "outputs": [
    {
     "data": {
      "text/plain": [
       "({'RMSE': 0.5069569343992312,\n",
       "  'MAE': 0.3963599292140159,\n",
       "  'R2': 0.3948572548864834},\n",
       " {'RMSE': 0.5174405119816862,\n",
       "  'MAE': 0.42531049980135505,\n",
       "  'R2': 0.36957046523674986})"
      ]
     },
     "execution_count": 15,
     "metadata": {},
     "output_type": "execute_result"
    }
   ],
   "source": [
    "# Step 1: Chinese word segmentation\n",
    "def tokenize(text):\n",
    "    return \" \".join(jieba.cut(text))\n",
    "\n",
    "cn_score_source['text_tokenized'] = cn_score_source['text'].apply(tokenize)\n",
    "\n",
    "# Step 2: TF-IDF vectorization\n",
    "vectorizer = TfidfVectorizer(max_features=5000)\n",
    "X = vectorizer.fit_transform(cn_score_source['text_tokenized'])\n",
    "y = cn_score_source['score']\n",
    "\n",
    "# Step 3: Train-test split\n",
    "X_train, X_test, y_train, y_test = train_test_split(X, y, test_size=0.2, random_state=42)\n",
    "\n",
    "# Step 4: Train Ridge regression\n",
    "ridge_model = Ridge()\n",
    "ridge_model.fit(X_train, y_train)\n",
    "y_pred_ridge = ridge_model.predict(X_test)\n",
    "\n",
    "# Step 5: Train XGBoost regression\n",
    "xgb_model = xgb.XGBRegressor(objective='reg:squarederror', n_estimators=100, max_depth=5, learning_rate=0.1)\n",
    "xgb_model.fit(X_train, y_train)\n",
    "y_pred_xgb = xgb_model.predict(X_test)\n",
    "\n",
    "# Step 6: Evaluate both models\n",
    "def evaluate(y_true, y_pred):\n",
    "    return {\n",
    "        \"RMSE\": np.sqrt(mean_squared_error(y_true, y_pred)),\n",
    "        \"MAE\": mean_absolute_error(y_true, y_pred),\n",
    "        \"R2\": r2_score(y_true, y_pred)\n",
    "    }\n",
    "\n",
    "ridge_metrics = evaluate(y_test, y_pred_ridge)\n",
    "xgb_metrics = evaluate(y_test, y_pred_xgb)\n",
    "\n",
    "ridge_metrics, xgb_metrics"
   ]
  },
  {
   "cell_type": "markdown",
   "id": "b1485592",
   "metadata": {},
   "source": [
    "### Chinese FinBert"
   ]
  },
  {
   "cell_type": "markdown",
   "id": "2038e685",
   "metadata": {},
   "source": [
    "### use scored sets as train set"
   ]
  },
  {
   "cell_type": "code",
   "execution_count": null,
   "id": "49008606",
   "metadata": {},
   "outputs": [
    {
     "name": "stderr",
     "output_type": "stream",
     "text": [
      "100%|██████████| 7337/7337 [06:01<00:00, 20.32it/s]\n"
     ]
    }
   ],
   "source": [
    "from transformers import BertTokenizer, BertModel\n",
    "import torch\n",
    "from tqdm import tqdm\n",
    "\n",
    "model_path = \"FinBERT_L-12_H-768_A-12_pytorch\"\n",
    "tokenizer = BertTokenizer.from_pretrained(model_path)\n",
    "model = BertModel.from_pretrained(model_path)\n",
    "\n",
    "cn_train_texts = cn_score_source[\"text\"].astype(str).tolist()\n",
    "\n",
    "# Extract [CLS] vectors as sentence vectors\n",
    "def get_cls_embedding(text):\n",
    "    inputs = tokenizer(text, return_tensors=\"pt\", truncation=True, padding=True, max_length=128)\n",
    "    with torch.no_grad():\n",
    "        outputs = model(**inputs)\n",
    "    cls_embedding = outputs.last_hidden_state[:, 0, :]  # shape: (1, 768)\n",
    "    return cls_embedding.squeeze().numpy()\n",
    "\n",
    "# Apply to all news, track process with tqdm\n",
    "embeddings = [get_cls_embedding(text) for text in tqdm(cn_train_texts)]\n",
    "\n",
    "embed_df = pd.DataFrame(embeddings)\n",
    "embed_df[\"score\"] = cn_score_source[\"score\"].values\n",
    "embed_df.to_csv(\"sentiment_source/cn_train_bert.csv\", index=False)"
   ]
  },
  {
   "cell_type": "code",
   "execution_count": null,
   "id": "32d55aa5",
   "metadata": {},
   "outputs": [
    {
     "name": "stderr",
     "output_type": "stream",
     "text": [
      "100%|██████████| 3578/3578 [02:38<00:00, 22.60it/s]\n"
     ]
    }
   ],
   "source": [
    "model_path = \"FinBERT_L-12_H-768_A-12_pytorch\"\n",
    "tokenizer = BertTokenizer.from_pretrained(model_path)\n",
    "model = BertModel.from_pretrained(model_path)\n",
    "\n",
    "cn_news_path = \"data_final/cn_news.csv\"\n",
    "cn_news_df = pd.read_csv(cn_news_path)\n",
    "cn_texts = cn_news_df[\"Headlines\"].astype(str).tolist()\n",
    "\n",
    "# Extract [CLS] vectors as sentence vectors\n",
    "def get_cls_embedding(text):\n",
    "    inputs = tokenizer(text, return_tensors=\"pt\", truncation=True, padding=True, max_length=128)\n",
    "    with torch.no_grad():\n",
    "        outputs = model(**inputs)\n",
    "    cls_embedding = outputs.last_hidden_state[:, 0, :]  # shape: (1, 768)\n",
    "    return cls_embedding.squeeze().numpy()\n",
    "\n",
    "# Apply to all news, track process with tqdm\n",
    "embeddings = [get_cls_embedding(text) for text in tqdm(cn_texts)]\n",
    "\n",
    "embed_df = pd.DataFrame(embeddings)\n",
    "embed_df.to_csv(\"data_final/cn_news_bert.csv\", index=False)"
   ]
  },
  {
   "cell_type": "code",
   "execution_count": null,
   "id": "61fdceb5",
   "metadata": {},
   "outputs": [
    {
     "data": {
      "text/plain": [
       "{'Ridge': {'RMSE': 0.4775876112290374,\n",
       "  'MAE': 0.37125230181712104,\n",
       "  'R2': 0.4629412456046471},\n",
       " 'MLP': {'RMSE': 0.49274726626273363,\n",
       "  'MAE': 0.364651839244405,\n",
       "  'R2': 0.4283053313501518},\n",
       " 'XGboost': {'RMSE': 0.4610354389982535,\n",
       "  'MAE': 0.3459513115125476,\n",
       "  'R2': 0.49952277909281206}}"
      ]
     },
     "execution_count": 7,
     "metadata": {},
     "output_type": "execute_result"
    }
   ],
   "source": [
    "# Ridge, MLP, XGBoost for evaluation\n",
    "from sklearn.linear_model import Ridge\n",
    "from sklearn.neural_network import MLPRegressor\n",
    "import xgboost as xgb\n",
    "\n",
    "df_train_bert = pd.read_csv(\"sentiment_source/cn_train_bert.csv\")\n",
    "X = df_train_bert.drop(columns=[\"score\"])\n",
    "y = df_train_bert[\"score\"]\n",
    "X_train, X_test, y_train, y_test = train_test_split(X, y, test_size=0.2, random_state=42)\n",
    "\n",
    "\n",
    "models = {\n",
    "    \"Ridge\": Ridge(),\n",
    "    \"MLP\": MLPRegressor(hidden_layer_sizes=(512, 128), max_iter=300, random_state=42),\n",
    "    \"XGboost\": xgb.XGBRegressor(objective='reg:squarederror', n_estimators=100, max_depth=5, learning_rate=0.1)\n",
    "}\n",
    "\n",
    "# Train, predict and evaluate\n",
    "results = {}\n",
    "for name, model in models.items():\n",
    "    model.fit(X_train, y_train)\n",
    "    preds = model.predict(X_test)\n",
    "    results[name] = {\n",
    "        \"RMSE\": np.sqrt(mean_squared_error(y_test, preds)),\n",
    "        \"MAE\": mean_absolute_error(y_test, preds),\n",
    "        \"R2\": r2_score(y_test, preds)\n",
    "    }\n",
    "\n",
    "results\n"
   ]
  },
  {
   "cell_type": "markdown",
   "id": "9bb1e0c7",
   "metadata": {},
   "source": [
    "### choose XGBoost"
   ]
  },
  {
   "cell_type": "code",
   "execution_count": null,
   "id": "f04268d6",
   "metadata": {},
   "outputs": [
    {
     "data": {
      "text/html": [
       "<div>\n",
       "<style scoped>\n",
       "    .dataframe tbody tr th:only-of-type {\n",
       "        vertical-align: middle;\n",
       "    }\n",
       "\n",
       "    .dataframe tbody tr th {\n",
       "        vertical-align: top;\n",
       "    }\n",
       "\n",
       "    .dataframe thead th {\n",
       "        text-align: right;\n",
       "    }\n",
       "</style>\n",
       "<table border=\"1\" class=\"dataframe\">\n",
       "  <thead>\n",
       "    <tr style=\"text-align: right;\">\n",
       "      <th></th>\n",
       "      <th>Unnamed: 0</th>\n",
       "      <th>Headlines</th>\n",
       "      <th>time</th>\n",
       "      <th>score</th>\n",
       "    </tr>\n",
       "  </thead>\n",
       "  <tbody>\n",
       "    <tr>\n",
       "      <th>0</th>\n",
       "      <td>0</td>\n",
       "      <td>【2018年基金展望：公募弱冠重构江湖 私募借势探路国际】2018年是贯彻党的十九大精神的开...</td>\n",
       "      <td>2018-01-01</td>\n",
       "      <td>0.336547</td>\n",
       "    </tr>\n",
       "    <tr>\n",
       "      <th>1</th>\n",
       "      <td>1</td>\n",
       "      <td>【2017年基金排名新鲜出炉 价值投资者尽享“王者盛宴”】随着2017年最后一个交易日结束，...</td>\n",
       "      <td>2018-01-01</td>\n",
       "      <td>0.363028</td>\n",
       "    </tr>\n",
       "    <tr>\n",
       "      <th>2</th>\n",
       "      <td>2</td>\n",
       "      <td>【全年PMI增长平稳 中国经济换挡进入新阶段】近日，国家统计局服务业调查中心和中国物流与采购...</td>\n",
       "      <td>2018-01-01</td>\n",
       "      <td>0.356259</td>\n",
       "    </tr>\n",
       "    <tr>\n",
       "      <th>3</th>\n",
       "      <td>3</td>\n",
       "      <td>【四部委：新能源车免征购置税延至2020年】12月27日，财政部等四部委发布公告称，财政部、...</td>\n",
       "      <td>2018-01-01</td>\n",
       "      <td>0.002112</td>\n",
       "    </tr>\n",
       "    <tr>\n",
       "      <th>4</th>\n",
       "      <td>4</td>\n",
       "      <td>【新华社：2018年A股“高歌”开门红 资本市场发展新年将“更上层楼”】2018年第一个交易...</td>\n",
       "      <td>2018-01-02</td>\n",
       "      <td>0.468627</td>\n",
       "    </tr>\n",
       "    <tr>\n",
       "      <th>...</th>\n",
       "      <td>...</td>\n",
       "      <td>...</td>\n",
       "      <td>...</td>\n",
       "      <td>...</td>\n",
       "    </tr>\n",
       "    <tr>\n",
       "      <th>3573</th>\n",
       "      <td>3573</td>\n",
       "      <td>【中国人民银行行长易纲新年致辞】  原图</td>\n",
       "      <td>2019-12-31</td>\n",
       "      <td>0.091625</td>\n",
       "    </tr>\n",
       "    <tr>\n",
       "      <th>3574</th>\n",
       "      <td>3574</td>\n",
       "      <td>【人民银行行长易纲看望慰问外汇储备经营管理人员】网页链接</td>\n",
       "      <td>2019-12-31</td>\n",
       "      <td>-0.092145</td>\n",
       "    </tr>\n",
       "    <tr>\n",
       "      <th>3575</th>\n",
       "      <td>3575</td>\n",
       "      <td>【北向资金连续30日净流入 科技和医药股是今年两条增持主线】2019年是外资快速涌入A股市场...</td>\n",
       "      <td>2019-12-31</td>\n",
       "      <td>0.283359</td>\n",
       "    </tr>\n",
       "    <tr>\n",
       "      <th>3576</th>\n",
       "      <td>3576</td>\n",
       "      <td>【隔夜外盘】欧美股市普跌，道指跌超180点，纳指跌0.67%，失守9000点整数关口；蔚来收...</td>\n",
       "      <td>2019-12-31</td>\n",
       "      <td>-0.249491</td>\n",
       "    </tr>\n",
       "    <tr>\n",
       "      <th>3577</th>\n",
       "      <td>3577</td>\n",
       "      <td>【统计局：12月制造业PMI为50.2% 非制造业PMI为53.5%】统计局最新披露的数据显...</td>\n",
       "      <td>2019-12-31</td>\n",
       "      <td>0.088412</td>\n",
       "    </tr>\n",
       "  </tbody>\n",
       "</table>\n",
       "<p>3578 rows × 4 columns</p>\n",
       "</div>"
      ],
      "text/plain": [
       "      Unnamed: 0                                          Headlines  \\\n",
       "0              0  【2018年基金展望：公募弱冠重构江湖 私募借势探路国际】2018年是贯彻党的十九大精神的开...   \n",
       "1              1  【2017年基金排名新鲜出炉 价值投资者尽享“王者盛宴”】随着2017年最后一个交易日结束，...   \n",
       "2              2  【全年PMI增长平稳 中国经济换挡进入新阶段】近日，国家统计局服务业调查中心和中国物流与采购...   \n",
       "3              3  【四部委：新能源车免征购置税延至2020年】12月27日，财政部等四部委发布公告称，财政部、...   \n",
       "4              4  【新华社：2018年A股“高歌”开门红 资本市场发展新年将“更上层楼”】2018年第一个交易...   \n",
       "...          ...                                                ...   \n",
       "3573        3573                              【中国人民银行行长易纲新年致辞】  原图    \n",
       "3574        3574                     【人民银行行长易纲看望慰问外汇储备经营管理人员】网页链接     \n",
       "3575        3575  【北向资金连续30日净流入 科技和医药股是今年两条增持主线】2019年是外资快速涌入A股市场...   \n",
       "3576        3576  【隔夜外盘】欧美股市普跌，道指跌超180点，纳指跌0.67%，失守9000点整数关口；蔚来收...   \n",
       "3577        3577  【统计局：12月制造业PMI为50.2% 非制造业PMI为53.5%】统计局最新披露的数据显...   \n",
       "\n",
       "            time     score  \n",
       "0     2018-01-01  0.336547  \n",
       "1     2018-01-01  0.363028  \n",
       "2     2018-01-01  0.356259  \n",
       "3     2018-01-01  0.002112  \n",
       "4     2018-01-02  0.468627  \n",
       "...          ...       ...  \n",
       "3573  2019-12-31  0.091625  \n",
       "3574  2019-12-31 -0.092145  \n",
       "3575  2019-12-31  0.283359  \n",
       "3576  2019-12-31 -0.249491  \n",
       "3577  2019-12-31  0.088412  \n",
       "\n",
       "[3578 rows x 4 columns]"
      ]
     },
     "execution_count": 12,
     "metadata": {},
     "output_type": "execute_result"
    }
   ],
   "source": [
    "cn_news_bert = pd.read_csv(\"data_final/cn_news_bert.csv\")\n",
    "cn_news = pd.read_csv(\"data_final/cn_news.csv\")\n",
    "\n",
    "X_train = df_train_bert.drop(columns=[\"score\"])\n",
    "y_train = df_train_bert[\"score\"]\n",
    "\n",
    "# Fit XGBoost model\n",
    "xgb_model = xgb.XGBRegressor(objective='reg:squarederror', n_estimators=100, max_depth=5, learning_rate=0.1)\n",
    "xgb_model.fit(X_train, y_train)\n",
    "\n",
    "# Predict sentiment scores on financial news\n",
    "xgb_scores = xgb_model.predict(cn_news_bert)\n",
    "\n",
    "# Normalize the scores to [-1, 1]\n",
    "min_score, max_score = xgb_scores.min(), xgb_scores.max()\n",
    "xgb_scores_norm = 2 * (xgb_scores - min_score) / (max_score - min_score) - 1 if max_score != min_score else np.zeros_like(xgb_scores)\n",
    "\n",
    "# Combine with date and headlines\n",
    "cn_news[\"score\"] = xgb_scores_norm\n",
    "cn_news"
   ]
  },
  {
   "cell_type": "code",
   "execution_count": null,
   "id": "bc47b979",
   "metadata": {},
   "outputs": [],
   "source": [
    "cn_news = cn_news.drop(columns = ['Unnamed: 0'])\n",
    "cn_news.to_csv(\"data_scored/cn_news_scored.csv\", encoding='utf-8-sig')"
   ]
  },
  {
   "cell_type": "markdown",
   "id": "214dff75",
   "metadata": {},
   "source": [
    "### Erlangshen Sentiment"
   ]
  },
  {
   "cell_type": "code",
   "execution_count": 32,
   "id": "876496ed",
   "metadata": {},
   "outputs": [
    {
     "name": "stderr",
     "output_type": "stream",
     "text": [
      "/Users/janedoe/anaconda3/lib/python3.11/site-packages/huggingface_hub/file_download.py:797: FutureWarning: `resume_download` is deprecated and will be removed in version 1.0.0. Downloads always resume when possible. If you want to force a new download, use `force_download=True`.\n",
      "  warnings.warn(\n"
     ]
    }
   ],
   "source": [
    "from transformers import AutoTokenizer, AutoModelForSequenceClassification\n",
    "\n",
    "tokenizer = AutoTokenizer.from_pretrained(\"IDEA-CCNL/Erlangshen-Roberta-110M-Sentiment\")\n",
    "model = AutoModelForSequenceClassification.from_pretrained(\"IDEA-CCNL/Erlangshen-Roberta-110M-Sentiment\")\n",
    "model.eval()\n",
    "\n",
    "df = pd.read_csv(\"data_final/cn_news.csv\")\n",
    "texts = df[\"Headlines\"].astype(str).tolist()\n"
   ]
  },
  {
   "cell_type": "code",
   "execution_count": 33,
   "id": "8e24d4b1",
   "metadata": {},
   "outputs": [
    {
     "name": "stderr",
     "output_type": "stream",
     "text": [
      "Scoring Sentiment: 100%|██████████| 3578/3578 [03:14<00:00, 18.39it/s]\n"
     ]
    },
    {
     "data": {
      "text/html": [
       "<div>\n",
       "<style scoped>\n",
       "    .dataframe tbody tr th:only-of-type {\n",
       "        vertical-align: middle;\n",
       "    }\n",
       "\n",
       "    .dataframe tbody tr th {\n",
       "        vertical-align: top;\n",
       "    }\n",
       "\n",
       "    .dataframe thead th {\n",
       "        text-align: right;\n",
       "    }\n",
       "</style>\n",
       "<table border=\"1\" class=\"dataframe\">\n",
       "  <thead>\n",
       "    <tr style=\"text-align: right;\">\n",
       "      <th></th>\n",
       "      <th>Unnamed: 0</th>\n",
       "      <th>Headlines</th>\n",
       "      <th>time</th>\n",
       "      <th>sentiment_score</th>\n",
       "    </tr>\n",
       "  </thead>\n",
       "  <tbody>\n",
       "    <tr>\n",
       "      <th>0</th>\n",
       "      <td>0</td>\n",
       "      <td>【2018年基金展望：公募弱冠重构江湖 私募借势探路国际】2018年是贯彻党的十九大精神的开...</td>\n",
       "      <td>2018-01-01</td>\n",
       "      <td>0.877919</td>\n",
       "    </tr>\n",
       "    <tr>\n",
       "      <th>1</th>\n",
       "      <td>1</td>\n",
       "      <td>【2017年基金排名新鲜出炉 价值投资者尽享“王者盛宴”】随着2017年最后一个交易日结束，...</td>\n",
       "      <td>2018-01-01</td>\n",
       "      <td>0.979904</td>\n",
       "    </tr>\n",
       "    <tr>\n",
       "      <th>2</th>\n",
       "      <td>2</td>\n",
       "      <td>【全年PMI增长平稳 中国经济换挡进入新阶段】近日，国家统计局服务业调查中心和中国物流与采购...</td>\n",
       "      <td>2018-01-01</td>\n",
       "      <td>0.988800</td>\n",
       "    </tr>\n",
       "    <tr>\n",
       "      <th>3</th>\n",
       "      <td>3</td>\n",
       "      <td>【四部委：新能源车免征购置税延至2020年】12月27日，财政部等四部委发布公告称，财政部、...</td>\n",
       "      <td>2018-01-01</td>\n",
       "      <td>0.966047</td>\n",
       "    </tr>\n",
       "    <tr>\n",
       "      <th>4</th>\n",
       "      <td>4</td>\n",
       "      <td>【新华社：2018年A股“高歌”开门红 资本市场发展新年将“更上层楼”】2018年第一个交易...</td>\n",
       "      <td>2018-01-02</td>\n",
       "      <td>0.966014</td>\n",
       "    </tr>\n",
       "    <tr>\n",
       "      <th>...</th>\n",
       "      <td>...</td>\n",
       "      <td>...</td>\n",
       "      <td>...</td>\n",
       "      <td>...</td>\n",
       "    </tr>\n",
       "    <tr>\n",
       "      <th>3573</th>\n",
       "      <td>3573</td>\n",
       "      <td>【中国人民银行行长易纲新年致辞】  原图</td>\n",
       "      <td>2019-12-31</td>\n",
       "      <td>0.911796</td>\n",
       "    </tr>\n",
       "    <tr>\n",
       "      <th>3574</th>\n",
       "      <td>3574</td>\n",
       "      <td>【人民银行行长易纲看望慰问外汇储备经营管理人员】网页链接</td>\n",
       "      <td>2019-12-31</td>\n",
       "      <td>0.912329</td>\n",
       "    </tr>\n",
       "    <tr>\n",
       "      <th>3575</th>\n",
       "      <td>3575</td>\n",
       "      <td>【北向资金连续30日净流入 科技和医药股是今年两条增持主线】2019年是外资快速涌入A股市场...</td>\n",
       "      <td>2019-12-31</td>\n",
       "      <td>0.994904</td>\n",
       "    </tr>\n",
       "    <tr>\n",
       "      <th>3576</th>\n",
       "      <td>3576</td>\n",
       "      <td>【隔夜外盘】欧美股市普跌，道指跌超180点，纳指跌0.67%，失守9000点整数关口；蔚来收...</td>\n",
       "      <td>2019-12-31</td>\n",
       "      <td>0.805653</td>\n",
       "    </tr>\n",
       "    <tr>\n",
       "      <th>3577</th>\n",
       "      <td>3577</td>\n",
       "      <td>【统计局：12月制造业PMI为50.2% 非制造业PMI为53.5%】统计局最新披露的数据显...</td>\n",
       "      <td>2019-12-31</td>\n",
       "      <td>0.643242</td>\n",
       "    </tr>\n",
       "  </tbody>\n",
       "</table>\n",
       "<p>3578 rows × 4 columns</p>\n",
       "</div>"
      ],
      "text/plain": [
       "      Unnamed: 0                                          Headlines  \\\n",
       "0              0  【2018年基金展望：公募弱冠重构江湖 私募借势探路国际】2018年是贯彻党的十九大精神的开...   \n",
       "1              1  【2017年基金排名新鲜出炉 价值投资者尽享“王者盛宴”】随着2017年最后一个交易日结束，...   \n",
       "2              2  【全年PMI增长平稳 中国经济换挡进入新阶段】近日，国家统计局服务业调查中心和中国物流与采购...   \n",
       "3              3  【四部委：新能源车免征购置税延至2020年】12月27日，财政部等四部委发布公告称，财政部、...   \n",
       "4              4  【新华社：2018年A股“高歌”开门红 资本市场发展新年将“更上层楼”】2018年第一个交易...   \n",
       "...          ...                                                ...   \n",
       "3573        3573                              【中国人民银行行长易纲新年致辞】  原图    \n",
       "3574        3574                     【人民银行行长易纲看望慰问外汇储备经营管理人员】网页链接     \n",
       "3575        3575  【北向资金连续30日净流入 科技和医药股是今年两条增持主线】2019年是外资快速涌入A股市场...   \n",
       "3576        3576  【隔夜外盘】欧美股市普跌，道指跌超180点，纳指跌0.67%，失守9000点整数关口；蔚来收...   \n",
       "3577        3577  【统计局：12月制造业PMI为50.2% 非制造业PMI为53.5%】统计局最新披露的数据显...   \n",
       "\n",
       "            time  sentiment_score  \n",
       "0     2018-01-01         0.877919  \n",
       "1     2018-01-01         0.979904  \n",
       "2     2018-01-01         0.988800  \n",
       "3     2018-01-01         0.966047  \n",
       "4     2018-01-02         0.966014  \n",
       "...          ...              ...  \n",
       "3573  2019-12-31         0.911796  \n",
       "3574  2019-12-31         0.912329  \n",
       "3575  2019-12-31         0.994904  \n",
       "3576  2019-12-31         0.805653  \n",
       "3577  2019-12-31         0.643242  \n",
       "\n",
       "[3578 rows x 4 columns]"
      ]
     },
     "execution_count": 33,
     "metadata": {},
     "output_type": "execute_result"
    }
   ],
   "source": [
    "def get_sentiment_score(text):\n",
    "    inputs = tokenizer(text, return_tensors=\"pt\", padding=True, truncation=True, max_length=128)\n",
    "    with torch.no_grad():\n",
    "        outputs = model(**inputs)\n",
    "    probs = torch.softmax(outputs.logits.squeeze(), dim=0)\n",
    "    score = probs[1] - probs[0] \n",
    "    return score.item()\n",
    "\n",
    "scores = []\n",
    "for text in tqdm(texts, desc=\"Scoring Sentiment\"):\n",
    "    score = get_sentiment_score(text)\n",
    "    scores.append(score)\n",
    "\n",
    "\n",
    "df[\"sentiment_score\"] = scores\n",
    "df"
   ]
  },
  {
   "cell_type": "code",
   "execution_count": 34,
   "id": "9861421f",
   "metadata": {},
   "outputs": [
    {
     "data": {
      "image/png": "[encoded data removed]",
      "text/plain": [
       "<Figure size 640x480 with 1 Axes>"
      ]
     },
     "metadata": {},
     "output_type": "display_data"
    }
   ],
   "source": [
    "import matplotlib.pyplot as plt\n",
    "\n",
    "plt.hist(df[\"sentiment_score\"], bins=50)\n",
    "plt.title(\"Sentiment Score Distribution\")\n",
    "plt.xlabel(\"Score (pos - neg)\")\n",
    "plt.ylabel(\"Frequency\")\n",
    "plt.show()"
   ]
  },
  {
   "cell_type": "code",
   "execution_count": 35,
   "id": "19feeefa",
   "metadata": {},
   "outputs": [
    {
     "name": "stdout",
     "output_type": "stream",
     "text": [
      "Total samples: 3578\n",
      "Score > 0.8: 2464\n",
      "Score < -0.2: 391\n"
     ]
    }
   ],
   "source": [
    "print(\"Total samples:\", len(df))\n",
    "print(\"Score > 0.8:\", (df[\"sentiment_score\"] > 0.8).sum())\n",
    "print(\"Score < -0.2:\", (df[\"sentiment_score\"] < -0.2).sum())\n"
   ]
  },
  {
   "cell_type": "code",
   "execution_count": 5,
   "id": "988b179f",
   "metadata": {},
   "outputs": [
    {
     "name": "stderr",
     "output_type": "stream",
     "text": [
      "/Users/janedoe/anaconda3/lib/python3.11/site-packages/huggingface_hub/file_download.py:797: FutureWarning: `resume_download` is deprecated and will be removed in version 1.0.0. Downloads always resume when possible. If you want to force a new download, use `force_download=True`.\n",
      "  warnings.warn(\n"
     ]
    },
    {
     "data": {
      "application/vnd.jupyter.widget-view+json": {
       "model_id": "0d49019328254eda8016b163aaf455c1",
       "version_major": 2,
       "version_minor": 0
      },
      "text/plain": [
       "Scoring 20 % sample:   0%|          | 0/23 [00:00<?, ?it/s]"
      ]
     },
     "metadata": {},
     "output_type": "display_data"
    },
    {
     "name": "stdout",
     "output_type": "stream",
     "text": [
      "RMSE: 0.9021\n",
      " MAE: 0.7223\n",
      "  R²: -0.9196\n"
     ]
    },
    {
     "name": "stderr",
     "output_type": "stream",
     "text": [
      "/Users/janedoe/anaconda3/lib/python3.11/site-packages/sklearn/metrics/_regression.py:483: FutureWarning: 'squared' is deprecated in version 1.4 and will be removed in 1.6. To calculate the root mean squared error, use the function'root_mean_squared_error'.\n",
      "  warnings.warn(\n"
     ]
    }
   ],
   "source": [
    "import pandas as pd\n",
    "import numpy as np\n",
    "import torch\n",
    "from tqdm.auto import tqdm\n",
    "from transformers import AutoTokenizer, AutoModelForSequenceClassification\n",
    "from sklearn.metrics import mean_squared_error, mean_absolute_error, r2_score\n",
    "\n",
    "# ----------------------------------------------------------------------\n",
    "# 1. Load 20 % sample of the labelled data\n",
    "# ----------------------------------------------------------------------\n",
    "df_full = pd.read_excel(\"sentiment_source/cn_train_data.xlsx\")\n",
    "TEXT_COL, TARGET_COL = \"text\", \"score\"\n",
    "\n",
    "df = df_full.sample(frac=0.20, random_state=42).reset_index(drop=True)  # 20 % subsample\n",
    "texts = df[TEXT_COL].tolist()\n",
    "\n",
    "# ----------------------------------------------------------------------\n",
    "# 2. Model & tokenizer\n",
    "# ----------------------------------------------------------------------\n",
    "tok = AutoTokenizer.from_pretrained(\"IDEA-CCNL/Erlangshen-Roberta-110M-Sentiment\")\n",
    "model = AutoModelForSequenceClassification.from_pretrained(\n",
    "    \"IDEA-CCNL/Erlangshen-Roberta-110M-Sentiment\"\n",
    ").eval()\n",
    "\n",
    "device = \"cuda\" if torch.cuda.is_available() else \"cpu\"\n",
    "model.to(device)\n",
    "\n",
    "# ----------------------------------------------------------------------\n",
    "# 3. Batched inference\n",
    "# ----------------------------------------------------------------------\n",
    "BATCH = 64        # adjust to your GPU/CPU memory\n",
    "MAXLEN = 128\n",
    "\n",
    "pred_scores = []\n",
    "for i in tqdm(range(0, len(texts), BATCH), desc=\"Scoring 20 % sample\"):\n",
    "    batch_texts = texts[i : i + BATCH]\n",
    "    enc = tok(batch_texts,\n",
    "              return_tensors=\"pt\",\n",
    "              padding=True,\n",
    "              truncation=True,\n",
    "              max_length=MAXLEN).to(device)\n",
    "\n",
    "    with torch.no_grad():\n",
    "        logits = model(**enc).logits           # shape: [B, 2]  (neg, pos)\n",
    "\n",
    "    probs = torch.softmax(logits, dim=1).cpu()\n",
    "    # score = P(pos) – P(neg)\n",
    "    batch_scores = (probs[:, 1] - probs[:, 0]).tolist()\n",
    "    pred_scores.extend(batch_scores)\n",
    "\n",
    "df[\"pred_score\"] = pred_scores\n",
    "\n",
    "# ----------------------------------------------------------------------\n",
    "# 4. Metrics\n",
    "# ----------------------------------------------------------------------\n",
    "y_true = df[TARGET_COL].values\n",
    "y_pred = df[\"pred_score\"].values\n",
    "\n",
    "rmse = mean_squared_error(y_true, y_pred, squared=False)\n",
    "mae  = mean_absolute_error(y_true, y_pred)\n",
    "r2   = r2_score(y_true, y_pred)\n",
    "\n",
    "print(f\"RMSE: {rmse:.4f}\")\n",
    "print(f\" MAE: {mae:.4f}\")\n",
    "print(f\"  R²: {r2:.4f}\")\n",
    "\n",
    "# optional: save the evaluated subset\n",
    "# df.to_excel(\"erlangshen_20pct_scored.xlsx\", index=False)\n"
   ]
  },
  {
   "cell_type": "markdown",
   "id": "73af7756",
   "metadata": {},
   "source": [
    "# Chinese Finbert"
   ]
  },
  {
   "cell_type": "code",
   "execution_count": null,
   "id": "3fb3ccf1",
   "metadata": {},
   "outputs": [
    {
     "name": "stderr",
     "output_type": "stream",
     "text": [
      "/Users/janedoe/anaconda3/lib/python3.11/site-packages/huggingface_hub/file_download.py:797: FutureWarning: `resume_download` is deprecated and will be removed in version 1.0.0. Downloads always resume when possible. If you want to force a new download, use `force_download=True`.\n",
      "  warnings.warn(\n"
     ]
    },
    {
     "data": {
      "application/vnd.jupyter.widget-view+json": {
       "model_id": "d975d4306e2b42b4994796c8c5fa90c7",
       "version_major": 2,
       "version_minor": 0
      },
      "text/plain": [
       "config.json:   0%|          | 0.00/1.04k [00:00<?, ?B/s]"
      ]
     },
     "metadata": {},
     "output_type": "display_data"
    },
    {
     "data": {
      "application/vnd.jupyter.widget-view+json": {
       "model_id": "8663bef711754a21bf22fafd83b075de",
       "version_major": 2,
       "version_minor": 0
      },
      "text/plain": [
       "model.safetensors:   0%|          | 0.00/409M [00:00<?, ?B/s]"
      ]
     },
     "metadata": {},
     "output_type": "display_data"
    },
    {
     "name": "stderr",
     "output_type": "stream",
     "text": [
      "/Users/janedoe/anaconda3/lib/python3.11/site-packages/transformers/pipelines/text_classification.py:104: UserWarning: `return_all_scores` is now deprecated,  if want a similar functionality use `top_k=None` instead of `return_all_scores=True` or `top_k=1` instead of `return_all_scores=False`.\n",
      "  warnings.warn(\n"
     ]
    },
    {
     "data": {
      "application/vnd.jupyter.widget-view+json": {
       "model_id": "7a4648450285488bb1ce50ca910b2ade",
       "version_major": 2,
       "version_minor": 0
      },
      "text/plain": [
       "Scoring:   0%|          | 0/230 [00:00<?, ?it/s]"
      ]
     },
     "metadata": {},
     "output_type": "display_data"
    },
    {
     "ename": "StopIteration",
     "evalue": "",
     "output_type": "error",
     "traceback": [
      "\u001b[0;31m---------------------------------------------------------------------------\u001b[0m",
      "\u001b[0;31mStopIteration\u001b[0m                             Traceback (most recent call last)",
      "Cell \u001b[0;32mIn[1], line 45\u001b[0m\n\u001b[1;32m     43\u001b[0m     batch_text \u001b[38;5;241m=\u001b[39m df\u001b[38;5;241m.\u001b[39mloc[start:end\u001b[38;5;241m-\u001b[39m\u001b[38;5;241m1\u001b[39m, TEXT_COL]\u001b[38;5;241m.\u001b[39mtolist()\n\u001b[1;32m     44\u001b[0m     batch_out  \u001b[38;5;241m=\u001b[39m pipe(batch_text)\n\u001b[0;32m---> 45\u001b[0m     pred_scores\u001b[38;5;241m.\u001b[39mextend([score_one(r) \u001b[38;5;28;01mfor\u001b[39;00m r \u001b[38;5;129;01min\u001b[39;00m batch_out])\n\u001b[1;32m     47\u001b[0m df[\u001b[38;5;124m\"\u001b[39m\u001b[38;5;124mpred_score\u001b[39m\u001b[38;5;124m\"\u001b[39m] \u001b[38;5;241m=\u001b[39m pred_scores\n\u001b[1;32m     49\u001b[0m \u001b[38;5;66;03m# ==== 5. 评估 ==========================================================\u001b[39;00m\n",
      "Cell \u001b[0;32mIn[1], line 45\u001b[0m, in \u001b[0;36m<listcomp>\u001b[0;34m(.0)\u001b[0m\n\u001b[1;32m     43\u001b[0m     batch_text \u001b[38;5;241m=\u001b[39m df\u001b[38;5;241m.\u001b[39mloc[start:end\u001b[38;5;241m-\u001b[39m\u001b[38;5;241m1\u001b[39m, TEXT_COL]\u001b[38;5;241m.\u001b[39mtolist()\n\u001b[1;32m     44\u001b[0m     batch_out  \u001b[38;5;241m=\u001b[39m pipe(batch_text)\n\u001b[0;32m---> 45\u001b[0m     pred_scores\u001b[38;5;241m.\u001b[39mextend([score_one(r) \u001b[38;5;28;01mfor\u001b[39;00m r \u001b[38;5;129;01min\u001b[39;00m batch_out])\n\u001b[1;32m     47\u001b[0m df[\u001b[38;5;124m\"\u001b[39m\u001b[38;5;124mpred_score\u001b[39m\u001b[38;5;124m\"\u001b[39m] \u001b[38;5;241m=\u001b[39m pred_scores\n\u001b[1;32m     49\u001b[0m \u001b[38;5;66;03m# ==== 5. 评估 ==========================================================\u001b[39;00m\n",
      "Cell \u001b[0;32mIn[1], line 35\u001b[0m, in \u001b[0;36mscore_one\u001b[0;34m(pred_list)\u001b[0m\n\u001b[1;32m     33\u001b[0m \u001b[38;5;250m\u001b[39m\u001b[38;5;124;03m\"\"\"pred_list 是 TextClassificationPipeline 对单条文本返回的 list[dict]\"\"\"\u001b[39;00m\n\u001b[1;32m     34\u001b[0m \u001b[38;5;66;03m# 假设标签顺序固定：LABEL_0=neutral, LABEL_1=positive, LABEL_2=negative\u001b[39;00m\n\u001b[0;32m---> 35\u001b[0m p_pos \u001b[38;5;241m=\u001b[39m \u001b[38;5;28mnext\u001b[39m(d[\u001b[38;5;124m\"\u001b[39m\u001b[38;5;124mscore\u001b[39m\u001b[38;5;124m\"\u001b[39m] \u001b[38;5;28;01mfor\u001b[39;00m d \u001b[38;5;129;01min\u001b[39;00m pred_list \u001b[38;5;28;01mif\u001b[39;00m d[\u001b[38;5;124m\"\u001b[39m\u001b[38;5;124mlabel\u001b[39m\u001b[38;5;124m\"\u001b[39m] \u001b[38;5;241m==\u001b[39m \u001b[38;5;124m\"\u001b[39m\u001b[38;5;124mLABEL_1\u001b[39m\u001b[38;5;124m\"\u001b[39m)\n\u001b[1;32m     36\u001b[0m p_neg \u001b[38;5;241m=\u001b[39m \u001b[38;5;28mnext\u001b[39m(d[\u001b[38;5;124m\"\u001b[39m\u001b[38;5;124mscore\u001b[39m\u001b[38;5;124m\"\u001b[39m] \u001b[38;5;28;01mfor\u001b[39;00m d \u001b[38;5;129;01min\u001b[39;00m pred_list \u001b[38;5;28;01mif\u001b[39;00m d[\u001b[38;5;124m\"\u001b[39m\u001b[38;5;124mlabel\u001b[39m\u001b[38;5;124m\"\u001b[39m] \u001b[38;5;241m==\u001b[39m \u001b[38;5;124m\"\u001b[39m\u001b[38;5;124mLABEL_2\u001b[39m\u001b[38;5;124m\"\u001b[39m)\n\u001b[1;32m     37\u001b[0m \u001b[38;5;28;01mreturn\u001b[39;00m p_pos \u001b[38;5;241m-\u001b[39m p_neg\n",
      "\u001b[0;31mStopIteration\u001b[0m: "
     ]
    }
   ],
   "source": [
    "import pandas as pd\n",
    "from transformers import (AutoModelForSequenceClassification,\n",
    "                          BertTokenizerFast, TextClassificationPipeline)\n",
    "from transformers import AutoTokenizer, AutoModelForSequenceClassification\n",
    "\n",
    "from sklearn.metrics import mean_squared_error, mean_absolute_error, r2_score\n",
    "from tqdm.auto import tqdm\n",
    "\n",
    "# ==== 1. 配置 ==========================================================\n",
    "DATA_PATH   = \"sentiment_source/cn_train_data.xlsx\"\n",
    "TEXT_COL    = \"text\"     \n",
    "TARGET_COL  = \"score\"   \n",
    "BATCH_SIZE = 32\n",
    "\n",
    "# ==== 2. 读数据 ========================================================\n",
    "df = pd.read_excel(DATA_PATH)\n",
    "\n",
    "# ==== 3. 初始化管道 ====================================================\n",
    "tokenizer = AutoTokenizer.from_pretrained(\"yiyanghkust/finbert-tone-chinese\")\n",
    "model = AutoModelForSequenceClassification.from_pretrained(\"yiyanghkust/finbert-tone-chinese\")\n",
    "pipe = TextClassificationPipeline(\n",
    "    model=model,\n",
    "    tokenizer=tokenizer,\n",
    "    return_all_scores=True,\n",
    "    device=-1,          # -1=CPU；如果用GPU改成0\n",
    "    batch_size=32,\n",
    "    truncation=True,\n",
    "    max_length=256\n",
    ")\n",
    "\n"
   ]
  },
  {
   "cell_type": "code",
   "execution_count": 3,
   "id": "a1d795c6",
   "metadata": {},
   "outputs": [
    {
     "data": {
      "application/vnd.jupyter.widget-view+json": {
       "model_id": "1be0f93e80e44aa196d3cdc34ead015b",
       "version_major": 2,
       "version_minor": 0
      },
      "text/plain": [
       "Scoring:   0%|          | 0/230 [00:00<?, ?it/s]"
      ]
     },
     "metadata": {},
     "output_type": "display_data"
    },
    {
     "name": "stdout",
     "output_type": "stream",
     "text": [
      "RMSE: 0.7125\n",
      " MAE: 0.5220\n",
      "  R²: -0.2208\n"
     ]
    },
    {
     "name": "stderr",
     "output_type": "stream",
     "text": [
      "/Users/janedoe/anaconda3/lib/python3.11/site-packages/sklearn/metrics/_regression.py:483: FutureWarning: 'squared' is deprecated in version 1.4 and will be removed in 1.6. To calculate the root mean squared error, use the function'root_mean_squared_error'.\n",
      "  warnings.warn(\n"
     ]
    }
   ],
   "source": [
    "\n",
    "# ==== 4. 批量推理得到 p(pos)−p(neg) ===================================\n",
    "def score_one(pred_list):\n",
    "    label_dict = {d[\"label\"]: d[\"score\"] for d in pred_list}\n",
    "    p_pos = label_dict.get(\"Positive\", 0.0)\n",
    "    p_neg = label_dict.get(\"Negative\", 0.0)\n",
    "    return p_pos - p_neg\n",
    "\n",
    "# 用分块方式避免一次性占太多显存/内存\n",
    "pred_scores = []\n",
    "for start in tqdm(range(0, len(df), BATCH_SIZE), desc=\"Scoring\"):\n",
    "    end = start + BATCH_SIZE\n",
    "    batch_text = df.loc[start:end-1, TEXT_COL].tolist()\n",
    "    batch_out  = pipe(batch_text)\n",
    "    pred_scores.extend([score_one(r) for r in batch_out])\n",
    "\n",
    "df[\"pred_score\"] = pred_scores\n",
    "\n",
    "# ==== 5. 评估 ==========================================================\n",
    "y_true = df[TARGET_COL]\n",
    "y_pred = df[\"pred_score\"]\n",
    "\n",
    "rmse = mean_squared_error(y_true, y_pred, squared=False)\n",
    "mae  = mean_absolute_error(y_true, y_pred)\n",
    "r2   = r2_score(y_true, y_pred)\n",
    "\n",
    "print(f\"RMSE: {rmse:.4f}\")\n",
    "print(f\" MAE: {mae:.4f}\")\n",
    "print(f\"  R²: {r2:.4f}\")"
   ]
  },
  {
   "cell_type": "markdown",
   "id": "146dc4db",
   "metadata": {},
   "source": [
    "### translate to english then score\n"
   ]
  },
  {
   "cell_type": "code",
   "execution_count": 10,
   "id": "2da6a611",
   "metadata": {},
   "outputs": [
    {
     "data": {
      "text/html": [
       "<div>\n",
       "<style scoped>\n",
       "    .dataframe tbody tr th:only-of-type {\n",
       "        vertical-align: middle;\n",
       "    }\n",
       "\n",
       "    .dataframe tbody tr th {\n",
       "        vertical-align: top;\n",
       "    }\n",
       "\n",
       "    .dataframe thead th {\n",
       "        text-align: right;\n",
       "    }\n",
       "</style>\n",
       "<table border=\"1\" class=\"dataframe\">\n",
       "  <thead>\n",
       "    <tr style=\"text-align: right;\">\n",
       "      <th></th>\n",
       "      <th>time</th>\n",
       "      <th>Headlines</th>\n",
       "    </tr>\n",
       "  </thead>\n",
       "  <tbody>\n",
       "    <tr>\n",
       "      <th>0</th>\n",
       "      <td>2018-01-01</td>\n",
       "      <td>[2018 Fund Outlook: Public offerings restructu...</td>\n",
       "    </tr>\n",
       "    <tr>\n",
       "      <th>1</th>\n",
       "      <td>2018-01-01</td>\n",
       "      <td>[2017 fund rankings are freshly released, valu...</td>\n",
       "    </tr>\n",
       "    <tr>\n",
       "      <th>2</th>\n",
       "      <td>2018-01-01</td>\n",
       "      <td>[PMI growth throughout the year is stable, Chi...</td>\n",
       "    </tr>\n",
       "    <tr>\n",
       "      <th>3</th>\n",
       "      <td>2018-01-01</td>\n",
       "      <td>[Four ministries and commissions: The exemptio...</td>\n",
       "    </tr>\n",
       "    <tr>\n",
       "      <th>4</th>\n",
       "      <td>2018-01-02</td>\n",
       "      <td>[Xinhua News Agency: A-shares \"sing\" in 2018 h...</td>\n",
       "    </tr>\n",
       "    <tr>\n",
       "      <th>...</th>\n",
       "      <td>...</td>\n",
       "      <td>...</td>\n",
       "    </tr>\n",
       "    <tr>\n",
       "      <th>3573</th>\n",
       "      <td>2019-12-31</td>\n",
       "      <td>[New Year's Speech by the Governor of the Peop...</td>\n",
       "    </tr>\n",
       "    <tr>\n",
       "      <th>3574</th>\n",
       "      <td>2019-12-31</td>\n",
       "      <td>[People's Bank Governor Yi Gang visited and co...</td>\n",
       "    </tr>\n",
       "    <tr>\n",
       "      <th>3575</th>\n",
       "      <td>2019-12-31</td>\n",
       "      <td>[Northern capital inflows for 30 consecutive d...</td>\n",
       "    </tr>\n",
       "    <tr>\n",
       "      <th>3576</th>\n",
       "      <td>2019-12-31</td>\n",
       "      <td>[Overnight foreign market] European and Americ...</td>\n",
       "    </tr>\n",
       "    <tr>\n",
       "      <th>3577</th>\n",
       "      <td>2019-12-31</td>\n",
       "      <td>[Country of Statistics: Manufacturing PMI was ...</td>\n",
       "    </tr>\n",
       "  </tbody>\n",
       "</table>\n",
       "<p>3578 rows × 2 columns</p>\n",
       "</div>"
      ],
      "text/plain": [
       "            time                                          Headlines\n",
       "0     2018-01-01  [2018 Fund Outlook: Public offerings restructu...\n",
       "1     2018-01-01  [2017 fund rankings are freshly released, valu...\n",
       "2     2018-01-01  [PMI growth throughout the year is stable, Chi...\n",
       "3     2018-01-01  [Four ministries and commissions: The exemptio...\n",
       "4     2018-01-02  [Xinhua News Agency: A-shares \"sing\" in 2018 h...\n",
       "...          ...                                                ...\n",
       "3573  2019-12-31  [New Year's Speech by the Governor of the Peop...\n",
       "3574  2019-12-31  [People's Bank Governor Yi Gang visited and co...\n",
       "3575  2019-12-31  [Northern capital inflows for 30 consecutive d...\n",
       "3576  2019-12-31  [Overnight foreign market] European and Americ...\n",
       "3577  2019-12-31  [Country of Statistics: Manufacturing PMI was ...\n",
       "\n",
       "[3578 rows x 2 columns]"
      ]
     },
     "execution_count": 10,
     "metadata": {},
     "output_type": "execute_result"
    }
   ],
   "source": [
    "cn_scored = pd.read_csv(\"data_final/cn_news_to_en.csv\")\n",
    "\n",
    "cn_news_to_en = pd.read_csv(\"data_final/cn_news_to_en.csv\")\n",
    "cn_news_to_en"
   ]
  },
  {
   "cell_type": "code",
   "execution_count": 11,
   "id": "c03dff15",
   "metadata": {},
   "outputs": [
    {
     "name": "stderr",
     "output_type": "stream",
     "text": [
      "/Users/janedoe/anaconda3/lib/python3.11/site-packages/huggingface_hub/file_download.py:797: FutureWarning: `resume_download` is deprecated and will be removed in version 1.0.0. Downloads always resume when possible. If you want to force a new download, use `force_download=True`.\n",
      "  warnings.warn(\n",
      "100%|██████████| 112/112 [01:28<00:00,  1.27it/s]\n"
     ]
    }
   ],
   "source": [
    "import torch\n",
    "import torch.nn.functional as F\n",
    "from transformers import AutoTokenizer, AutoModelForSequenceClassification\n",
    "from tqdm import tqdm\n",
    "\n",
    "# Load FinBERT model\n",
    "tokenizer = AutoTokenizer.from_pretrained(\"ProsusAI/finbert\")\n",
    "model = AutoModelForSequenceClassification.from_pretrained(\"ProsusAI/finbert\")\n",
    "model.eval()\n",
    "\n",
    "texts = cn_news_to_en[\"Headlines\"].astype(str).tolist()\n",
    "\n",
    "# Label map\n",
    "label_map = {0: \"negative\", 1: \"neutral\", 2: \"positive\"}\n",
    "\n",
    "# Inference function\n",
    "def predict_sentiment(texts, batch_size=32):\n",
    "    sentiments = []\n",
    "    scores = []\n",
    "\n",
    "    for i in tqdm(range(0, len(texts), batch_size)):\n",
    "        batch = texts[i:i + batch_size]\n",
    "        inputs = tokenizer(batch, return_tensors=\"pt\", padding=True, truncation=True, max_length=128)\n",
    "        with torch.no_grad():\n",
    "            outputs = model(**inputs)\n",
    "        probs = F.softmax(outputs.logits, dim=-1)\n",
    "        labels = torch.argmax(probs, dim=1).tolist()\n",
    "        sentiments.extend([label_map[label] for label in labels])\n",
    "        scores.extend(probs.tolist())\n",
    "\n",
    "    return sentiments, scores\n",
    "\n",
    "# Run\n",
    "sentiments, scores = predict_sentiment(texts)\n",
    "\n",
    "# Save results\n",
    "cn_news_to_en[\"finbert_sentiment\"] = sentiments\n",
    "cn_news_to_en[\"finbert_pos_score\"] = [s[2] for s in scores]\n",
    "cn_news_to_en[\"finbert_neu_score\"] = [s[1] for s in scores]\n",
    "cn_news_to_en[\"finbert_neg_score\"] = [s[0] for s in scores]\n"
   ]
  },
  {
   "cell_type": "code",
   "execution_count": 12,
   "id": "8d3ee07f",
   "metadata": {},
   "outputs": [
    {
     "data": {
      "text/html": [
       "<div>\n",
       "<style scoped>\n",
       "    .dataframe tbody tr th:only-of-type {\n",
       "        vertical-align: middle;\n",
       "    }\n",
       "\n",
       "    .dataframe tbody tr th {\n",
       "        vertical-align: top;\n",
       "    }\n",
       "\n",
       "    .dataframe thead th {\n",
       "        text-align: right;\n",
       "    }\n",
       "</style>\n",
       "<table border=\"1\" class=\"dataframe\">\n",
       "  <thead>\n",
       "    <tr style=\"text-align: right;\">\n",
       "      <th></th>\n",
       "      <th>time</th>\n",
       "      <th>Headlines</th>\n",
       "      <th>score</th>\n",
       "    </tr>\n",
       "  </thead>\n",
       "  <tbody>\n",
       "    <tr>\n",
       "      <th>0</th>\n",
       "      <td>2018-01-01</td>\n",
       "      <td>[2018 Fund Outlook: Public offerings restructu...</td>\n",
       "      <td>0.700638</td>\n",
       "    </tr>\n",
       "    <tr>\n",
       "      <th>1</th>\n",
       "      <td>2018-01-01</td>\n",
       "      <td>[2017 fund rankings are freshly released, valu...</td>\n",
       "      <td>0.869158</td>\n",
       "    </tr>\n",
       "    <tr>\n",
       "      <th>2</th>\n",
       "      <td>2018-01-01</td>\n",
       "      <td>[PMI growth throughout the year is stable, Chi...</td>\n",
       "      <td>-0.957210</td>\n",
       "    </tr>\n",
       "    <tr>\n",
       "      <th>3</th>\n",
       "      <td>2018-01-01</td>\n",
       "      <td>[Four ministries and commissions: The exemptio...</td>\n",
       "      <td>0.839678</td>\n",
       "    </tr>\n",
       "    <tr>\n",
       "      <th>4</th>\n",
       "      <td>2018-01-02</td>\n",
       "      <td>[Xinhua News Agency: A-shares \"sing\" in 2018 h...</td>\n",
       "      <td>-0.948129</td>\n",
       "    </tr>\n",
       "    <tr>\n",
       "      <th>...</th>\n",
       "      <td>...</td>\n",
       "      <td>...</td>\n",
       "      <td>...</td>\n",
       "    </tr>\n",
       "    <tr>\n",
       "      <th>3573</th>\n",
       "      <td>2019-12-31</td>\n",
       "      <td>[New Year's Speech by the Governor of the Peop...</td>\n",
       "      <td>0.973275</td>\n",
       "    </tr>\n",
       "    <tr>\n",
       "      <th>3574</th>\n",
       "      <td>2019-12-31</td>\n",
       "      <td>[People's Bank Governor Yi Gang visited and co...</td>\n",
       "      <td>0.867485</td>\n",
       "    </tr>\n",
       "    <tr>\n",
       "      <th>3575</th>\n",
       "      <td>2019-12-31</td>\n",
       "      <td>[Northern capital inflows for 30 consecutive d...</td>\n",
       "      <td>-0.921750</td>\n",
       "    </tr>\n",
       "    <tr>\n",
       "      <th>3576</th>\n",
       "      <td>2019-12-31</td>\n",
       "      <td>[Overnight foreign market] European and Americ...</td>\n",
       "      <td>0.009291</td>\n",
       "    </tr>\n",
       "    <tr>\n",
       "      <th>3577</th>\n",
       "      <td>2019-12-31</td>\n",
       "      <td>[Country of Statistics: Manufacturing PMI was ...</td>\n",
       "      <td>0.816389</td>\n",
       "    </tr>\n",
       "  </tbody>\n",
       "</table>\n",
       "<p>3578 rows × 3 columns</p>\n",
       "</div>"
      ],
      "text/plain": [
       "            time                                          Headlines     score\n",
       "0     2018-01-01  [2018 Fund Outlook: Public offerings restructu...  0.700638\n",
       "1     2018-01-01  [2017 fund rankings are freshly released, valu...  0.869158\n",
       "2     2018-01-01  [PMI growth throughout the year is stable, Chi... -0.957210\n",
       "3     2018-01-01  [Four ministries and commissions: The exemptio...  0.839678\n",
       "4     2018-01-02  [Xinhua News Agency: A-shares \"sing\" in 2018 h... -0.948129\n",
       "...          ...                                                ...       ...\n",
       "3573  2019-12-31  [New Year's Speech by the Governor of the Peop...  0.973275\n",
       "3574  2019-12-31  [People's Bank Governor Yi Gang visited and co...  0.867485\n",
       "3575  2019-12-31  [Northern capital inflows for 30 consecutive d... -0.921750\n",
       "3576  2019-12-31  [Overnight foreign market] European and Americ...  0.009291\n",
       "3577  2019-12-31  [Country of Statistics: Manufacturing PMI was ...  0.816389\n",
       "\n",
       "[3578 rows x 3 columns]"
      ]
     },
     "execution_count": 12,
     "metadata": {},
     "output_type": "execute_result"
    }
   ],
   "source": [
    "from sklearn.preprocessing import MinMaxScaler\n",
    "\n",
    "cn_news_to_en[\"finbert_sentiment_score\"] = (\n",
    "    cn_news_to_en[\"finbert_pos_score\"] - cn_news_to_en[\"finbert_neg_score\"]\n",
    ")\n",
    "\n",
    "scaler = MinMaxScaler(feature_range=(-1, 1))\n",
    "cn_news_to_en[\"score\"] = scaler.fit_transform(\n",
    "    cn_news_to_en[[\"finbert_sentiment_score\"]]\n",
    ")\n",
    "\n",
    "cn_news_to_en = cn_news_to_en.drop(columns = ['finbert_sentiment', 'finbert_pos_score', 'finbert_neu_score', 'finbert_neg_score', 'finbert_sentiment_score'])\n",
    "cn_news_to_en"
   ]
  },
  {
   "cell_type": "code",
   "execution_count": 13,
   "id": "d410de5d",
   "metadata": {},
   "outputs": [],
   "source": [
    "cn_news_to_en.to_csv(\"data_scored/cn_to_en_scored.csv\", index=False)"
   ]
  },
  {
   "cell_type": "code",
   "execution_count": null,
   "id": "9e3f61b2",
   "metadata": {},
   "outputs": [],
   "source": []
  }
 ],
 "metadata": {
  "kernelspec": {
   "display_name": "Python 3",
   "language": "python",
   "name": "python3"
  },
  "language_info": {
   "codemirror_mode": {
    "name": "ipython",
    "version": 3
   },
   "file_extension": ".py",
   "mimetype": "text/x-python",
   "name": "python",
   "nbconvert_exporter": "python",
   "pygments_lexer": "ipython3",
   "version": "3.11.4"
  }
 },
 "nbformat": 4,
 "nbformat_minor": 5
}

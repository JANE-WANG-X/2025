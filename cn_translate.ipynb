{
 "cells": [
  {
   "cell_type": "code",
   "execution_count": null,
   "id": "f70d57da",
   "metadata": {},
   "outputs": [
    {
     "name": "stdout",
     "output_type": "stream",
     "text": [
      "\n",
      "🚀 Translating batch 1/10 (0 to 357)\n"
     ]
    },
    {
     "name": "stderr",
     "output_type": "stream",
     "text": [
      "100%|██████████| 357/357 [03:51<00:00,  1.54it/s]\n"
     ]
    },
    {
     "name": "stdout",
     "output_type": "stream",
     "text": [
      "✅ Saved batch 1 to data_final/batches/cn_news_translated_batch_1.csv\n",
      "\n",
      "🚀 Translating batch 2/10 (357 to 714)\n"
     ]
    },
    {
     "name": "stderr",
     "output_type": "stream",
     "text": [
      "100%|██████████| 357/357 [04:21<00:00,  1.36it/s]\n"
     ]
    },
    {
     "name": "stdout",
     "output_type": "stream",
     "text": [
      "✅ Saved batch 2 to data_final/batches/cn_news_translated_batch_2.csv\n",
      "\n",
      "🚀 Translating batch 3/10 (714 to 1071)\n"
     ]
    },
    {
     "name": "stderr",
     "output_type": "stream",
     "text": [
      "100%|██████████| 357/357 [07:08<00:00,  1.20s/it]\n"
     ]
    },
    {
     "name": "stdout",
     "output_type": "stream",
     "text": [
      "✅ Saved batch 3 to data_final/batches/cn_news_translated_batch_3.csv\n",
      "\n",
      "🚀 Translating batch 4/10 (1071 to 1428)\n"
     ]
    },
    {
     "name": "stderr",
     "output_type": "stream",
     "text": [
      "100%|██████████| 357/357 [06:42<00:00,  1.13s/it]\n"
     ]
    },
    {
     "name": "stdout",
     "output_type": "stream",
     "text": [
      "✅ Saved batch 4 to data_final/batches/cn_news_translated_batch_4.csv\n",
      "\n",
      "🚀 Translating batch 5/10 (1428 to 1785)\n"
     ]
    },
    {
     "name": "stderr",
     "output_type": "stream",
     "text": [
      "100%|██████████| 357/357 [07:21<00:00,  1.24s/it]\n"
     ]
    },
    {
     "name": "stdout",
     "output_type": "stream",
     "text": [
      "✅ Saved batch 5 to data_final/batches/cn_news_translated_batch_5.csv\n",
      "\n",
      "🚀 Translating batch 6/10 (1785 to 2142)\n"
     ]
    },
    {
     "name": "stderr",
     "output_type": "stream",
     "text": [
      " 89%|████████▉ | 318/357 [07:23<07:11, 11.05s/it]"
     ]
    },
    {
     "name": "stdout",
     "output_type": "stream",
     "text": [
      "⚠️ Translation error: The read operation timed out\n"
     ]
    },
    {
     "name": "stderr",
     "output_type": "stream",
     "text": [
      " 99%|█████████▊| 352/357 [11:36<05:20, 64.15s/it]"
     ]
    },
    {
     "name": "stdout",
     "output_type": "stream",
     "text": [
      "⚠️ Translation error: The read operation timed out\n"
     ]
    },
    {
     "name": "stderr",
     "output_type": "stream",
     "text": [
      "100%|██████████| 357/357 [11:45<00:00,  1.98s/it]\n"
     ]
    },
    {
     "name": "stdout",
     "output_type": "stream",
     "text": [
      "✅ Saved batch 6 to data_final/batches/cn_news_translated_batch_6.csv\n",
      "\n",
      "🚀 Translating batch 7/10 (2142 to 2499)\n"
     ]
    },
    {
     "name": "stderr",
     "output_type": "stream",
     "text": [
      "  3%|▎         | 12/357 [00:15<13:09,  2.29s/it]"
     ]
    },
    {
     "name": "stdout",
     "output_type": "stream",
     "text": [
      "⚠️ Translation error: The read operation timed out\n"
     ]
    },
    {
     "name": "stderr",
     "output_type": "stream",
     "text": [
      "100%|██████████| 357/357 [07:26<00:00,  1.25s/it]\n"
     ]
    },
    {
     "name": "stdout",
     "output_type": "stream",
     "text": [
      "✅ Saved batch 7 to data_final/batches/cn_news_translated_batch_7.csv\n",
      "\n",
      "🚀 Translating batch 8/10 (2499 to 2856)\n"
     ]
    },
    {
     "name": "stderr",
     "output_type": "stream",
     "text": [
      "100%|██████████| 357/357 [07:36<00:00,  1.28s/it]\n"
     ]
    },
    {
     "name": "stdout",
     "output_type": "stream",
     "text": [
      "✅ Saved batch 8 to data_final/batches/cn_news_translated_batch_8.csv\n",
      "\n",
      "🚀 Translating batch 9/10 (2856 to 3213)\n"
     ]
    },
    {
     "name": "stderr",
     "output_type": "stream",
     "text": [
      "100%|██████████| 357/357 [07:32<00:00,  1.27s/it]\n"
     ]
    },
    {
     "name": "stdout",
     "output_type": "stream",
     "text": [
      "✅ Saved batch 9 to data_final/batches/cn_news_translated_batch_9.csv\n",
      "\n",
      "🚀 Translating batch 10/10 (3213 to 3578)\n"
     ]
    },
    {
     "name": "stderr",
     "output_type": "stream",
     "text": [
      " 83%|████████▎ | 303/365 [06:10<02:22,  2.29s/it]"
     ]
    },
    {
     "name": "stdout",
     "output_type": "stream",
     "text": [
      "⚠️ Translation error: The read operation timed out\n"
     ]
    },
    {
     "name": "stderr",
     "output_type": "stream",
     "text": [
      "100%|██████████| 365/365 [07:25<00:00,  1.22s/it]\n"
     ]
    },
    {
     "name": "stdout",
     "output_type": "stream",
     "text": [
      "✅ Saved batch 10 to data_final/batches/cn_news_translated_batch_10.csv\n"
     ]
    }
   ],
   "source": [
    "import pandas as pd\n",
    "from googletrans import Translator\n",
    "from tqdm import tqdm\n",
    "import time\n",
    "import os\n",
    "\n",
    "# Load the full dataset\n",
    "df = pd.read_csv('data_final/cn_news.csv')\n",
    "\n",
    "# Divide into 10 batches\n",
    "n_batches = 10\n",
    "batch_size = len(df) // n_batches\n",
    "\n",
    "# Initialize translator\n",
    "translator = Translator()\n",
    "tqdm.pandas()\n",
    "\n",
    "def safe_translate(text):\n",
    "    try:\n",
    "        return translator.translate(text, src='zh-cn', dest='en').text\n",
    "    except Exception as e:\n",
    "        print(f\"⚠️ Translation error: {e}\")\n",
    "        return \"[Translation failed]\"\n",
    "\n",
    "# Output folder to store temporary results\n",
    "output_dir = \"cn_batches\"\n",
    "os.makedirs(output_dir, exist_ok=True)\n",
    "\n",
    "for i in range(n_batches):\n",
    "    start_idx = i * batch_size\n",
    "    end_idx = (i + 1) * batch_size if i < n_batches - 1 else len(df)\n",
    "    batch = df.iloc[start_idx:end_idx]\n",
    "    \n",
    "    print(f\"\\n🚀 Translating batch {i+1}/{n_batches} ({start_idx} to {end_idx})\")\n",
    "\n",
    "    translated = batch['Headlines'].progress_apply(safe_translate)\n",
    "    translated_df = pd.DataFrame({'Headlines_English': translated})\n",
    "\n",
    "    batch_output_path = os.path.join(output_dir, f'cn_news_translated_batch_{i+1}.csv')\n",
    "    translated_df.to_csv(batch_output_path, index=False)\n",
    "\n",
    "    print(f\"✅ Saved batch {i+1} to {batch_output_path}\")\n",
    "    time.sleep(3)\n"
   ]
  },
  {
   "cell_type": "code",
   "execution_count": 3,
   "id": "75d00e3a",
   "metadata": {},
   "outputs": [
    {
     "name": "stdout",
     "output_type": "stream",
     "text": [
      "✅ Merged batches saved in correct order to: data_final/cn_news_to_en.csv\n"
     ]
    }
   ],
   "source": [
    "import glob\n",
    "import re\n",
    "\n",
    "def natural_sort_key(s):\n",
    "    return [int(text) if text.isdigit() else text.lower()\n",
    "            for text in re.split('(\\d+)', s)]\n",
    "\n",
    "input_files = sorted(glob.glob('cn_batches/cn_news_translated_batch_*.csv'), key=natural_sort_key)\n",
    "\n",
    "for file in input_files:\n",
    "    try:\n",
    "        df = pd.read_csv(file, encoding='utf-8')\n",
    "        df.to_csv(file, index=False, encoding='utf-8-sig')\n",
    "    except Exception as e:\n",
    "        print(f\"❌ Error with file {file}: {e}\")\n",
    "\n",
    "df_original = pd.read_csv('data_final/cn_news.csv')\n",
    "df_translated = pd.concat([pd.read_csv(f, encoding='utf-8-sig') for f in input_files], ignore_index=True)\n",
    "\n",
    "df_final = df_original[['time']].copy()\n",
    "df_final['Headlines'] = df_translated['Headlines_English']\n",
    "\n",
    "final_output_path = 'data_final/cn_news_to_en.csv'\n",
    "df_final.to_csv(final_output_path, index=False, encoding='utf-8-sig')\n",
    "\n",
    "print(\"✅ Merged batches saved in correct order to:\", final_output_path)\n"
   ]
  },
  {
   "cell_type": "code",
   "execution_count": null,
   "id": "f0f0618d",
   "metadata": {},
   "outputs": [],
   "source": []
  }
 ],
 "metadata": {
  "kernelspec": {
   "display_name": "Python (finance-nlp)",
   "language": "python",
   "name": "finance-nlp"
  },
  "language_info": {
   "codemirror_mode": {
    "name": "ipython",
    "version": 3
   },
   "file_extension": ".py",
   "mimetype": "text/x-python",
   "name": "python",
   "nbconvert_exporter": "python",
   "pygments_lexer": "ipython3",
   "version": "3.11.4"
  }
 },
 "nbformat": 4,
 "nbformat_minor": 5
}
